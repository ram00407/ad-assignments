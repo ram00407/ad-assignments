{
 "cells": [
  {
   "cell_type": "code",
   "execution_count": null,
   "id": "b5ed6f45-23d7-425e-b247-7855d51f610a",
   "metadata": {},
   "outputs": [],
   "source": []
  },
  {
   "cell_type": "code",
   "execution_count": 7,
   "id": "8956fa32-2a84-43ba-ab3d-7654a01e346b",
   "metadata": {},
   "outputs": [
    {
     "name": "stdin",
     "output_type": "stream",
     "text": [
      "Enter a positive integer:  5\n"
     ]
    },
    {
     "name": "stdout",
     "output_type": "stream",
     "text": [
      "\n",
      "Numbers from 1 to 5 :\n",
      "1\n",
      "2\n",
      "3\n",
      "4\n",
      "5\n",
      "\n",
      "Sum of numbers from 1 to 5 is: 15\n"
     ]
    }
   ],
   "source": [
    "#1)\n",
    "n = int(input(\"Enter a positive integer: \"))\n",
    "print(\"\\nNumbers from 1 to\", n, \":\")\n",
    "for i in range(1, n + 1):\n",
    "    print(i)\n",
    "sum_numbers = 0\n",
    "counter = 1\n",
    "while counter <= n:\n",
    "    sum_numbers += counter\n",
    "    counter += 1\n",
    "\n",
    "print(\"\\nSum of numbers from 1 to\", n, \"is:\", sum_numbers)\n"
   ]
  },
  {
   "cell_type": "code",
   "execution_count": null,
   "id": "6ed264f1-5a7e-4433-872b-31f885149850",
   "metadata": {},
   "outputs": [],
   "source": [
    "def calculate_square(n):\n",
    "    return n**2\n",
    "n=int(input(\"Enter the numb\n",
    "    "
   ]
  }
 ],
 "metadata": {
  "kernelspec": {
   "display_name": "Python [conda env:base] *",
   "language": "python",
   "name": "conda-base-py"
  },
  "language_info": {
   "codemirror_mode": {
    "name": "ipython",
    "version": 3
   },
   "file_extension": ".py",
   "mimetype": "text/x-python",
   "name": "python",
   "nbconvert_exporter": "python",
   "pygments_lexer": "ipython3",
   "version": "3.12.7"
  }
 },
 "nbformat": 4,
 "nbformat_minor": 5
}
