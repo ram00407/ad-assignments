{
 "cells": [
  {
   "cell_type": "code",
   "execution_count": 1,
   "id": "d3c86738-706c-4e6c-8c34-f9874b3cb7db",
   "metadata": {},
   "outputs": [
    {
     "name": "stdin",
     "output_type": "stream",
     "text": [
      "Enter a positive integer:  4\n"
     ]
    },
    {
     "name": "stdout",
     "output_type": "stream",
     "text": [
      "The sum of all even numbers between 1 and 4 is: 6\n"
     ]
    }
   ],
   "source": [
    "def sum(n):\n",
    "    total = 0\n",
    "    for i in range(2, n+1, 2):  \n",
    "        total += i\n",
    "    return total\n",
    "\n",
    "\n",
    "n = int(input(\"Enter a positive integer: \"))\n",
    "\n",
    "\n",
    "print(\"The sum of all even numbers between 1 and\", n, \"is:\", sum(n))"
   ]
  },
  {
   "cell_type": "code",
   "execution_count": null,
   "id": "c1c18100-b818-47ff-b8f8-50d27bc65fe2",
   "metadata": {},
   "outputs": [],
   "source": []
  }
 ],
 "metadata": {
  "kernelspec": {
   "display_name": "Python [conda env:base] *",
   "language": "python",
   "name": "conda-base-py"
  },
  "language_info": {
   "codemirror_mode": {
    "name": "ipython",
    "version": 3
   },
   "file_extension": ".py",
   "mimetype": "text/x-python",
   "name": "python",
   "nbconvert_exporter": "python",
   "pygments_lexer": "ipython3",
   "version": "3.12.7"
  }
 },
 "nbformat": 4,
 "nbformat_minor": 5
}
